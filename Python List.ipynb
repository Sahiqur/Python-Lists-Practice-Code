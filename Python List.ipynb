{
 "cells": [
  {
   "cell_type": "code",
   "execution_count": 1,
   "id": "45463893",
   "metadata": {},
   "outputs": [
    {
     "data": {
      "text/plain": [
       "['Sahiq', 'Robin', 'Tanim', 'Mainuddin']"
      ]
     },
     "execution_count": 1,
     "metadata": {},
     "output_type": "execute_result"
    }
   ],
   "source": [
    "txt=[\"Sahiq\",\"Robin\",\"Tanim\",\"Mainuddin\"]\n",
    "txt.copy()\n",
    "txt"
   ]
  },
  {
   "cell_type": "code",
   "execution_count": 3,
   "id": "572aa597",
   "metadata": {},
   "outputs": [
    {
     "data": {
      "text/plain": [
       "['Sahiq', 'Robin', 'Tanim', 'Mainuddin']"
      ]
     },
     "execution_count": 3,
     "metadata": {},
     "output_type": "execute_result"
    }
   ],
   "source": [
    "txt=[\"Sahiq\",\"Robin\",\"Tanim\",\"Mainuddin\"]\n",
    "txt1=list(txt)\n",
    "txt1"
   ]
  },
  {
   "cell_type": "code",
   "execution_count": 4,
   "id": "c8879f0f",
   "metadata": {},
   "outputs": [
    {
     "data": {
      "text/plain": [
       "['Sahiq', 'Robin', 'Tanim', 'Mainuddin', 1, 2, 3, 4]"
      ]
     },
     "execution_count": 4,
     "metadata": {},
     "output_type": "execute_result"
    }
   ],
   "source": [
    "txt=[\"Sahiq\",\"Robin\",\"Tanim\",\"Mainuddin\"]\n",
    "txt1=[1,2,3,4]\n",
    "sum=txt+txt1\n",
    "sum"
   ]
  },
  {
   "cell_type": "code",
   "execution_count": 9,
   "id": "91475e0f",
   "metadata": {},
   "outputs": [
    {
     "data": {
      "text/plain": [
       "['Sahiq', 'Robin', 'Tanim', 'Mainuddin', 1, 2, 3, 4, 5]"
      ]
     },
     "execution_count": 9,
     "metadata": {},
     "output_type": "execute_result"
    }
   ],
   "source": [
    "txt=[\"Sahiq\",\"Robin\",\"Tanim\",\"Mainuddin\"]\n",
    "txt1=[1,2,3,4,5]\n",
    "for x in txt1:\n",
    "    txt.append(x)\n",
    "txt"
   ]
  },
  {
   "cell_type": "code",
   "execution_count": 11,
   "id": "9e0174b4",
   "metadata": {},
   "outputs": [
    {
     "data": {
      "text/plain": [
       "['Sahiq', 'Robin', 'Tanim', 'Mainuddin', 1, 2, 3, 4, 5, 6, 7]"
      ]
     },
     "execution_count": 11,
     "metadata": {},
     "output_type": "execute_result"
    }
   ],
   "source": [
    "txt=[\"Sahiq\",\"Robin\",\"Tanim\",\"Mainuddin\"]\n",
    "txt1=[1,2,3,4,5,6,7]\n",
    "for x in txt1:\n",
    "    txt.append(x)\n",
    "txt"
   ]
  },
  {
   "cell_type": "code",
   "execution_count": 12,
   "id": "f8409f3c",
   "metadata": {},
   "outputs": [
    {
     "data": {
      "text/plain": [
       "['Sahiq', 'Robin', 'Tanim', 'Mainuddin', 1, 2, 3, 4, 5, 6, 7]"
      ]
     },
     "execution_count": 12,
     "metadata": {},
     "output_type": "execute_result"
    }
   ],
   "source": [
    "txt1=[\"Sahiq\",\"Robin\",\"Tanim\",\"Mainuddin\"]\n",
    "txt2=[1,2,3,4,5,6,7]\n",
    "txt1.extend(txt2)\n",
    "txt1"
   ]
  },
  {
   "cell_type": "code",
   "execution_count": 14,
   "id": "22344e28",
   "metadata": {},
   "outputs": [
    {
     "data": {
      "text/plain": [
       "[1, 2, 3, 4, 5, 6, 7, 'Sahiq', 'Robin', 'Tanim', 'Mainuddin']"
      ]
     },
     "execution_count": 14,
     "metadata": {},
     "output_type": "execute_result"
    }
   ],
   "source": [
    "txt1=[\"Sahiq\",\"Robin\",\"Tanim\",\"Mainuddin\"]\n",
    "txt2=[1,2,3,4,5,6,7]\n",
    "txt2.extend(txt1)\n",
    "txt2"
   ]
  },
  {
   "cell_type": "markdown",
   "id": "47855d2a",
   "metadata": {},
   "source": [
    "#List Method  "
   ]
  },
  {
   "cell_type": "code",
   "execution_count": 16,
   "id": "287e2abd",
   "metadata": {},
   "outputs": [
    {
     "data": {
      "text/plain": [
       "['Sahiq', 'Robin', 'Tanim', 'Mainuddin', 'Kamal']"
      ]
     },
     "execution_count": 16,
     "metadata": {},
     "output_type": "execute_result"
    }
   ],
   "source": [
    "txt1=[\"Sahiq\",\"Robin\",\"Tanim\",\"Mainuddin\"]\n",
    "txt1.append(\"Kamal\")\n",
    "txt1"
   ]
  },
  {
   "cell_type": "code",
   "execution_count": 18,
   "id": "4ef267ee",
   "metadata": {},
   "outputs": [
    {
     "data": {
      "text/plain": [
       "['Sahiq', 'Robin', 'Tanim', 'Mainuddin', [1, 2, 3, 4, 5]]"
      ]
     },
     "execution_count": 18,
     "metadata": {},
     "output_type": "execute_result"
    }
   ],
   "source": [
    "a=[\"Sahiq\",\"Robin\",\"Tanim\",\"Mainuddin\"]\n",
    "b=[1,2,3,4,5]\n",
    "a.append(b)\n",
    "a"
   ]
  },
  {
   "cell_type": "code",
   "execution_count": 20,
   "id": "134e4479",
   "metadata": {},
   "outputs": [
    {
     "data": {
      "text/plain": [
       "[]"
      ]
     },
     "execution_count": 20,
     "metadata": {},
     "output_type": "execute_result"
    }
   ],
   "source": [
    "a=[\"Sahiq\",\"Robin\",\"Tanim\",\"Mainuddin\"]\n",
    "a.clear()\n",
    "a"
   ]
  },
  {
   "cell_type": "code",
   "execution_count": 21,
   "id": "5fd2e3b8",
   "metadata": {},
   "outputs": [
    {
     "data": {
      "text/plain": [
       "['Sahiq', 'Robin', 'Tanim', 'Mainuddin']"
      ]
     },
     "execution_count": 21,
     "metadata": {},
     "output_type": "execute_result"
    }
   ],
   "source": [
    "txt=[\"Sahiq\",\"Robin\",\"Tanim\",\"Mainuddin\"]\n",
    "a=txt.copy()\n",
    "a"
   ]
  },
  {
   "cell_type": "code",
   "execution_count": 25,
   "id": "d48c13f9",
   "metadata": {},
   "outputs": [
    {
     "data": {
      "text/plain": [
       "1"
      ]
     },
     "execution_count": 25,
     "metadata": {},
     "output_type": "execute_result"
    }
   ],
   "source": [
    "txt=[\"Sahiq\",\"Robin\",\"Tanim\",\"Mainuddin\"]\n",
    "txt.count(\"Sahiq\")"
   ]
  },
  {
   "cell_type": "code",
   "execution_count": 30,
   "id": "be57ec71",
   "metadata": {},
   "outputs": [
    {
     "data": {
      "text/plain": [
       "1"
      ]
     },
     "execution_count": 30,
     "metadata": {},
     "output_type": "execute_result"
    }
   ],
   "source": [
    "b=[1,2,3,4,5]\n",
    "x=b.count(5)\n",
    "x"
   ]
  },
  {
   "cell_type": "code",
   "execution_count": 31,
   "id": "1d15a1ed",
   "metadata": {},
   "outputs": [
    {
     "data": {
      "text/plain": [
       "['Sahiq', 'Robin', 'Tanim', 'Mainuddin', 1, 2, 3, 4, 5, 6, 7]"
      ]
     },
     "execution_count": 31,
     "metadata": {},
     "output_type": "execute_result"
    }
   ],
   "source": [
    "txt1=[\"Sahiq\",\"Robin\",\"Tanim\",\"Mainuddin\"]\n",
    "txt2=[1,2,3,4,5,6,7]\n",
    "txt1.extend(txt2)\n",
    "txt1"
   ]
  },
  {
   "cell_type": "code",
   "execution_count": 3,
   "id": "9da4d70c",
   "metadata": {},
   "outputs": [
    {
     "data": {
      "text/plain": [
       "2"
      ]
     },
     "execution_count": 3,
     "metadata": {},
     "output_type": "execute_result"
    }
   ],
   "source": [
    "txt1=[\"Sahiq\",\"Robin\",\"Tanim\",\"Mainuddin\"]\n",
    "x=txt1.index(\"Tanim\")\n",
    "x"
   ]
  },
  {
   "cell_type": "code",
   "execution_count": 9,
   "id": "8736be31",
   "metadata": {},
   "outputs": [
    {
     "data": {
      "text/plain": [
       "5"
      ]
     },
     "execution_count": 9,
     "metadata": {},
     "output_type": "execute_result"
    }
   ],
   "source": [
    "txt2=[1,2,3,4,5,6,7]\n",
    "x=txt2.index(6)\n",
    "\n",
    "x"
   ]
  },
  {
   "cell_type": "code",
   "execution_count": 11,
   "id": "fc59756b",
   "metadata": {},
   "outputs": [
    {
     "name": "stdout",
     "output_type": "stream",
     "text": [
      "['Sahiq', 'Rabbi', 'Robin', 'Tanim', 'Mainuddin']\n"
     ]
    }
   ],
   "source": [
    "txt1=[\"Sahiq\",\"Robin\",\"Tanim\",\"Mainuddin\"]\n",
    "txt1.insert(1,\"Rabbi\")\n",
    "print(txt1)"
   ]
  },
  {
   "cell_type": "code",
   "execution_count": 14,
   "id": "1a79c5e0",
   "metadata": {},
   "outputs": [
    {
     "data": {
      "text/plain": [
       "[1, 2, 3, 4, 5, 6, 7, 88]"
      ]
     },
     "execution_count": 14,
     "metadata": {},
     "output_type": "execute_result"
    }
   ],
   "source": [
    "txt2=[1,2,3,4,5,6,7]\n",
    "txt2.insert(7,88)\n",
    "txt2"
   ]
  },
  {
   "cell_type": "code",
   "execution_count": 16,
   "id": "1829e2c8",
   "metadata": {},
   "outputs": [
    {
     "data": {
      "text/plain": [
       "['Sahiq', 'Tanim', 'Mainuddin']"
      ]
     },
     "execution_count": 16,
     "metadata": {},
     "output_type": "execute_result"
    }
   ],
   "source": [
    "txt1=[\"Sahiq\",\"Robin\",\"Tanim\",\"Mainuddin\"]\n",
    "txt1.pop(1)\n",
    "txt1"
   ]
  },
  {
   "cell_type": "code",
   "execution_count": 18,
   "id": "bc79c69d",
   "metadata": {},
   "outputs": [
    {
     "data": {
      "text/plain": [
       "'Robin'"
      ]
     },
     "execution_count": 18,
     "metadata": {},
     "output_type": "execute_result"
    }
   ],
   "source": [
    "txt1=[\"Sahiq\",\"Robin\",\"Tanim\",\"Mainuddin\"]\n",
    "txt1.pop(1)"
   ]
  },
  {
   "cell_type": "code",
   "execution_count": 19,
   "id": "1539058e",
   "metadata": {},
   "outputs": [
    {
     "data": {
      "text/plain": [
       "list"
      ]
     },
     "execution_count": 19,
     "metadata": {},
     "output_type": "execute_result"
    }
   ],
   "source": [
    "type(txt1)"
   ]
  },
  {
   "cell_type": "code",
   "execution_count": 22,
   "id": "d4d273c8",
   "metadata": {},
   "outputs": [
    {
     "data": {
      "text/plain": [
       "['Sahiq', 'Tanim', 'Mainuddin']"
      ]
     },
     "execution_count": 22,
     "metadata": {},
     "output_type": "execute_result"
    }
   ],
   "source": [
    "txt1=[\"Sahiq\",\"Robin\",\"Tanim\",\"Mainuddin\"]\n",
    "txt1.remove(\"Robin\")\n",
    "txt1"
   ]
  },
  {
   "cell_type": "code",
   "execution_count": 24,
   "id": "fff2d92f",
   "metadata": {},
   "outputs": [
    {
     "data": {
      "text/plain": [
       "[7, 6, 5, 4, 3, 2, 1]"
      ]
     },
     "execution_count": 24,
     "metadata": {},
     "output_type": "execute_result"
    }
   ],
   "source": [
    "txt2=[1,2,3,4,5,6,7]\n",
    "txt2.reverse()\n",
    "txt2"
   ]
  },
  {
   "cell_type": "code",
   "execution_count": 29,
   "id": "e9d50ea6",
   "metadata": {},
   "outputs": [
    {
     "data": {
      "text/plain": [
       "[0, 1, 2, 3, 4, 4, 6, 7, 9, 9]"
      ]
     },
     "execution_count": 29,
     "metadata": {},
     "output_type": "execute_result"
    }
   ],
   "source": [
    "a=[9,6,7,4,2,1,3,0,9,4]\n",
    "a.sort()\n",
    "a"
   ]
  },
  {
   "cell_type": "code",
   "execution_count": null,
   "id": "31323724",
   "metadata": {},
   "outputs": [],
   "source": []
  }
 ],
 "metadata": {
  "kernelspec": {
   "display_name": "Python 3 (ipykernel)",
   "language": "python",
   "name": "python3"
  },
  "language_info": {
   "codemirror_mode": {
    "name": "ipython",
    "version": 3
   },
   "file_extension": ".py",
   "mimetype": "text/x-python",
   "name": "python",
   "nbconvert_exporter": "python",
   "pygments_lexer": "ipython3",
   "version": "3.11.5"
  }
 },
 "nbformat": 4,
 "nbformat_minor": 5
}
